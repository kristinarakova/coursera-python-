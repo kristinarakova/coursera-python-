{
 "cells": [
  {
   "cell_type": "code",
   "execution_count": 1,
   "metadata": {
    "collapsed": true
   },
   "outputs": [],
   "source": [
    "import codecs\n",
    "import re\n",
    "import numpy as np\n",
    "\n",
    "from scipy.spatial import distance\n",
    "from collections import Counter\n",
    "\n",
    "#считали файл\n",
    "sent = codecs.open('sentences.txt', 'r', encoding='utf-8')\n",
    "text = sent.read()\n",
    "\n",
    "#в нижний регистр\n",
    "text = text.lower()\n",
    "\n",
    "#разбили на предложения\n",
    "s=re.split('.\\n', text)\n",
    "\n",
    "#убрали пробелы\n",
    "words=re.split('[^a-z]', text)\n",
    "words=[t for t in words if t]\n",
    "\n",
    "#словарь из уникальных слов\n",
    "uniq_words=np.unique(words)"
   ]
  },
  {
   "cell_type": "code",
   "execution_count": 2,
   "metadata": {
    "collapsed": true
   },
   "outputs": [],
   "source": [
    "#предложения->массив слов\n",
    "s_arr=[]\n",
    "for i in s:\n",
    "    s_arr.append(re.split('[^a-z]', i))\n",
    "\n",
    "for i,sent in enumerate(s_arr):\n",
    "    s_arr[i]=[t for t in sent if t]\n",
    "    \n",
    "s_arr=s_arr[:22]    "
   ]
  },
  {
   "cell_type": "code",
   "execution_count": 3,
   "metadata": {
    "collapsed": true
   },
   "outputs": [],
   "source": [
    "#подсчет кол-ва вхождений слов в предложении\n",
    "count_words = np.zeros((len(s_arr), len(uniq_words)))\n",
    "\n",
    "for ind_i,i in enumerate(s_arr):\n",
    "    for j in i:\n",
    "        for ind_k, k in enumerate(uniq_words):\n",
    "            if j==k:\n",
    "                count_words[ind_i, ind_k]=count_words[ind_i, ind_k]+1\n",
    "            "
   ]
  },
  {
   "cell_type": "code",
   "execution_count": 4,
   "metadata": {
    "collapsed": true
   },
   "outputs": [],
   "source": [
    "#косинусное расстояние \n",
    "dist_cos = np.zeros((len(s_arr)-1,1))\n",
    "shape_matrix=np.shape (count_words)\n",
    "\n",
    "for i in range(0,shape_matrix[0]-1):\n",
    "    dist_cos[i,:]=distance.cosine(count_words[0,:],count_words[i+1,:])"
   ]
  },
  {
   "cell_type": "code",
   "execution_count": 5,
   "metadata": {},
   "outputs": [
    {
     "data": {
      "text/plain": [
       "array([[ 0.95275444],\n",
       "       [ 0.86447381],\n",
       "       [ 0.89517152],\n",
       "       [ 0.77708871],\n",
       "       [ 0.94023857],\n",
       "       [ 0.73273876],\n",
       "       [ 0.92587507],\n",
       "       [ 0.88427249],\n",
       "       [ 0.90550888],\n",
       "       [ 0.83281654],\n",
       "       [ 0.88047714],\n",
       "       [ 0.83964325],\n",
       "       [ 0.87035926],\n",
       "       [ 0.87401184],\n",
       "       [ 0.94427218],\n",
       "       [ 0.84063619],\n",
       "       [ 0.9566445 ],\n",
       "       [ 0.94427218],\n",
       "       [ 0.88854436],\n",
       "       [ 0.84275727],\n",
       "       [ 0.82503645]])"
      ]
     },
     "execution_count": 5,
     "metadata": {},
     "output_type": "execute_result"
    }
   ],
   "source": [
    "dist_cos "
   ]
  },
  {
   "cell_type": "code",
   "execution_count": 6,
   "metadata": {},
   "outputs": [
    {
     "data": {
      "text/plain": [
       "['in comparison to dogs, cats have not undergone major changes during the domestication process',\n",
       " 'as cat simply catenates streams of bytes, it can be also used to concatenate binary files, where it will just concatenate sequence of bytes',\n",
       " 'a common interactive use of cat for a single file is to output the content of a file to standard output',\n",
       " 'cats can hear sounds too faint or too high in frequency for human ears, such as those made by mice and other small animals',\n",
       " 'in one, people deliberately tamed cats in a process of artificial selection, as they were useful predators of vermin',\n",
       " 'the domesticated cat and its closest wild ancestor are both diploid organisms that possess 38 chromosomes and roughly 20,000 genes',\n",
       " 'domestic cats are similar in size to the other members of the genus felis, typically weighing between 4 and 5 kg (8.8 and 11.0 lb)',\n",
       " 'however, if the output is piped or redirected, cat is unnecessary',\n",
       " 'cat with one named file is safer where human error is a concern - one wrong use of the default redirection symbol \">\" instead of \"<\" (often adjacent on keyboards) may permanently delete the file you were just needing to read',\n",
       " 'in terms of legibility, a sequence of commands starting with cat and connected by pipes has a clear left-to-right flow of information',\n",
       " 'cat command is one of the basic commands that you learned when you started in the unix / linux world',\n",
       " 'using cat command, the lines received from stdin can be redirected to a new file using redirection symbols',\n",
       " 'when you type simply cat command without any arguments, it just receives the stdin content and displays it in the stdout',\n",
       " 'leopard was released on october 26, 2007 as the successor of tiger (version 10.4), and is available in two editions',\n",
       " 'according to apple, leopard contains over 300 changes and enhancements over its predecessor, mac os x tiger',\n",
       " 'as of mid 2010, some apple computers have firmware factory installed which will no longer allow installation of mac os x leopard',\n",
       " 'since apple moved to using intel processors in their computers, the osx86 community has developed and now also allows mac os x tiger and later releases to be installed on non-apple x86-based computers',\n",
       " \"os x mountain lion was released on july 25, 2012 for purchase and download through apple's mac app store, as part of a switch to releasing os x versions online and every year\",\n",
       " 'apple has released a small patch for the three most recent versions of safari running on os x yosemite, mavericks, and mountain lion',\n",
       " 'the mountain lion release marks the second time apple has offered an incremental upgrade, rather than releasing a new cat entirely',\n",
       " \"mac os x mountain lion installs in place, so you won't need to create a separate disk or run the installation off an external drive\",\n",
       " \"the fifth major update to mac os x, leopard, contains such a mountain of features - more than 300 by apple's count\",\n",
       " '']"
      ]
     },
     "execution_count": 6,
     "metadata": {},
     "output_type": "execute_result"
    }
   ],
   "source": [
    "s"
   ]
  },
  {
   "cell_type": "code",
   "execution_count": null,
   "metadata": {
    "collapsed": true
   },
   "outputs": [],
   "source": []
  }
 ],
 "metadata": {
  "kernelspec": {
   "display_name": "Python 3",
   "language": "python",
   "name": "python3"
  },
  "language_info": {
   "codemirror_mode": {
    "name": "ipython",
    "version": 3
   },
   "file_extension": ".py",
   "mimetype": "text/x-python",
   "name": "python",
   "nbconvert_exporter": "python",
   "pygments_lexer": "ipython3",
   "version": "3.6.1"
  }
 },
 "nbformat": 4,
 "nbformat_minor": 2
}
